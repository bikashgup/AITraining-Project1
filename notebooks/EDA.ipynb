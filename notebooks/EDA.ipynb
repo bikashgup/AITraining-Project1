{
  "nbformat": 4,
  "nbformat_minor": 0,
  "metadata": {
    "colab": {
      "name": "AITraining-Day 3",
      "provenance": [],
      "collapsed_sections": [
        "fDy8Q_HxCYx4",
        "uLcXVimwVB68"
      ]
    },
    "kernelspec": {
      "name": "python3",
      "display_name": "Python 3"
    }
  },
  "cells": [
    {
      "cell_type": "markdown",
      "metadata": {
        "id": "2_8JjIHWP46R",
        "colab_type": "text"
      },
      "source": [
        "# Exploratory Data Analysis"
      ]
    },
    {
      "cell_type": "code",
      "metadata": {
        "id": "_fQ3hNo4P6EL",
        "colab_type": "code",
        "colab": {}
      },
      "source": [
        "\n",
        "# IMporting Libraries\n",
        "import numpy as np\n",
        "import pandas as pd\n",
        "import seaborn as sns\n",
        "import matplotlib.pyplot as plt\n",
        "%matplotlib inline\n",
        "\n",
        "from sklearn.impute import SimpleImputer"
      ],
      "execution_count": 0,
      "outputs": []
    },
    {
      "cell_type": "markdown",
      "metadata": {
        "id": "tgfgxS6UqtzJ",
        "colab_type": "text"
      },
      "source": [
        "## Load Data"
      ]
    },
    {
      "cell_type": "code",
      "metadata": {
        "id": "x4oRhhQ1mNiF",
        "colab_type": "code",
        "colab": {}
      },
      "source": [
        "df = pd.read_csv('car.csv')"
      ],
      "execution_count": 0,
      "outputs": []
    },
    {
      "cell_type": "code",
      "metadata": {
        "id": "GNSJFgl6nzWZ",
        "colab_type": "code",
        "outputId": "e193ce45-96a9-4e02-8cbf-0305fdb403f7",
        "colab": {
          "base_uri": "https://localhost:8080/",
          "height": 289
        }
      },
      "source": [
        "df.head()"
      ],
      "execution_count": 0,
      "outputs": [
        {
          "output_type": "execute_result",
          "data": {
            "text/html": [
              "<div>\n",
              "<style scoped>\n",
              "    .dataframe tbody tr th:only-of-type {\n",
              "        vertical-align: middle;\n",
              "    }\n",
              "\n",
              "    .dataframe tbody tr th {\n",
              "        vertical-align: top;\n",
              "    }\n",
              "\n",
              "    .dataframe thead th {\n",
              "        text-align: right;\n",
              "    }\n",
              "</style>\n",
              "<table border=\"1\" class=\"dataframe\">\n",
              "  <thead>\n",
              "    <tr style=\"text-align: right;\">\n",
              "      <th></th>\n",
              "      <th>maker</th>\n",
              "      <th>model</th>\n",
              "      <th>mileage</th>\n",
              "      <th>manufacture_year</th>\n",
              "      <th>engine_displacement</th>\n",
              "      <th>engine_power</th>\n",
              "      <th>body_type</th>\n",
              "      <th>color_slug</th>\n",
              "      <th>stk_year</th>\n",
              "      <th>transmission</th>\n",
              "      <th>door_count</th>\n",
              "      <th>seat_count</th>\n",
              "      <th>fuel_type</th>\n",
              "      <th>date_created</th>\n",
              "      <th>date_last_seen</th>\n",
              "      <th>price_eur</th>\n",
              "    </tr>\n",
              "  </thead>\n",
              "  <tbody>\n",
              "    <tr>\n",
              "      <th>0</th>\n",
              "      <td>ford</td>\n",
              "      <td>galaxy</td>\n",
              "      <td>151000.0</td>\n",
              "      <td>2011.0</td>\n",
              "      <td>2000.0</td>\n",
              "      <td>103.0</td>\n",
              "      <td>NaN</td>\n",
              "      <td>NaN</td>\n",
              "      <td>None</td>\n",
              "      <td>man</td>\n",
              "      <td>5</td>\n",
              "      <td>7</td>\n",
              "      <td>diesel</td>\n",
              "      <td>2015-11-14 18:10:06.838319+00</td>\n",
              "      <td>2016-01-27 20:40:15.46361+00</td>\n",
              "      <td>10584.75</td>\n",
              "    </tr>\n",
              "    <tr>\n",
              "      <th>1</th>\n",
              "      <td>skoda</td>\n",
              "      <td>octavia</td>\n",
              "      <td>143476.0</td>\n",
              "      <td>2012.0</td>\n",
              "      <td>2000.0</td>\n",
              "      <td>81.0</td>\n",
              "      <td>NaN</td>\n",
              "      <td>NaN</td>\n",
              "      <td>None</td>\n",
              "      <td>man</td>\n",
              "      <td>5</td>\n",
              "      <td>5</td>\n",
              "      <td>diesel</td>\n",
              "      <td>2015-11-14 18:10:06.853411+00</td>\n",
              "      <td>2016-01-27 20:40:15.46361+00</td>\n",
              "      <td>8882.31</td>\n",
              "    </tr>\n",
              "    <tr>\n",
              "      <th>2</th>\n",
              "      <td>bmw</td>\n",
              "      <td>NaN</td>\n",
              "      <td>97676.0</td>\n",
              "      <td>2010.0</td>\n",
              "      <td>1995.0</td>\n",
              "      <td>85.0</td>\n",
              "      <td>NaN</td>\n",
              "      <td>NaN</td>\n",
              "      <td>None</td>\n",
              "      <td>man</td>\n",
              "      <td>5</td>\n",
              "      <td>5</td>\n",
              "      <td>diesel</td>\n",
              "      <td>2015-11-14 18:10:06.861792+00</td>\n",
              "      <td>2016-01-27 20:40:15.46361+00</td>\n",
              "      <td>12065.06</td>\n",
              "    </tr>\n",
              "    <tr>\n",
              "      <th>3</th>\n",
              "      <td>skoda</td>\n",
              "      <td>fabia</td>\n",
              "      <td>111970.0</td>\n",
              "      <td>2004.0</td>\n",
              "      <td>1200.0</td>\n",
              "      <td>47.0</td>\n",
              "      <td>NaN</td>\n",
              "      <td>NaN</td>\n",
              "      <td>None</td>\n",
              "      <td>man</td>\n",
              "      <td>5</td>\n",
              "      <td>5</td>\n",
              "      <td>gasoline</td>\n",
              "      <td>2015-11-14 18:10:06.872313+00</td>\n",
              "      <td>2016-01-27 20:40:15.46361+00</td>\n",
              "      <td>2960.77</td>\n",
              "    </tr>\n",
              "    <tr>\n",
              "      <th>4</th>\n",
              "      <td>skoda</td>\n",
              "      <td>fabia</td>\n",
              "      <td>128886.0</td>\n",
              "      <td>2004.0</td>\n",
              "      <td>1200.0</td>\n",
              "      <td>47.0</td>\n",
              "      <td>NaN</td>\n",
              "      <td>NaN</td>\n",
              "      <td>None</td>\n",
              "      <td>man</td>\n",
              "      <td>5</td>\n",
              "      <td>5</td>\n",
              "      <td>gasoline</td>\n",
              "      <td>2015-11-14 18:10:06.880335+00</td>\n",
              "      <td>2016-01-27 20:40:15.46361+00</td>\n",
              "      <td>2738.71</td>\n",
              "    </tr>\n",
              "  </tbody>\n",
              "</table>\n",
              "</div>"
            ],
            "text/plain": [
              "   maker    model  ...                date_last_seen  price_eur\n",
              "0   ford   galaxy  ...  2016-01-27 20:40:15.46361+00   10584.75\n",
              "1  skoda  octavia  ...  2016-01-27 20:40:15.46361+00    8882.31\n",
              "2    bmw      NaN  ...  2016-01-27 20:40:15.46361+00   12065.06\n",
              "3  skoda    fabia  ...  2016-01-27 20:40:15.46361+00    2960.77\n",
              "4  skoda    fabia  ...  2016-01-27 20:40:15.46361+00    2738.71\n",
              "\n",
              "[5 rows x 16 columns]"
            ]
          },
          "metadata": {
            "tags": []
          },
          "execution_count": 284
        }
      ]
    },
    {
      "cell_type": "code",
      "metadata": {
        "id": "d0xc7ID8n00A",
        "colab_type": "code",
        "outputId": "807461d1-f539-48b5-dada-2c2bfc3d0bbf",
        "colab": {
          "base_uri": "https://localhost:8080/",
          "height": 374
        }
      },
      "source": [
        "df.info()\n",
        "df.shape"
      ],
      "execution_count": 306,
      "outputs": [
        {
          "output_type": "stream",
          "text": [
            "<class 'pandas.core.frame.DataFrame'>\n",
            "RangeIndex: 61210 entries, 0 to 61209\n",
            "Data columns (total 13 columns):\n",
            " #   Column               Non-Null Count  Dtype  \n",
            "---  ------               --------------  -----  \n",
            " 0   maker                61210 non-null  object \n",
            " 1   model                61210 non-null  object \n",
            " 2   mileage              61210 non-null  float64\n",
            " 3   manufacture_year     61210 non-null  float64\n",
            " 4   engine_displacement  61210 non-null  float64\n",
            " 5   engine_power         61210 non-null  float64\n",
            " 6   stk_year             61210 non-null  object \n",
            " 7   transmission         61210 non-null  object \n",
            " 8   door_count           61210 non-null  object \n",
            " 9   seat_count           61210 non-null  object \n",
            " 10  fuel_type            61210 non-null  object \n",
            " 11  date_created         61210 non-null  object \n",
            " 12  price_eur            61210 non-null  float64\n",
            "dtypes: float64(5), object(8)\n",
            "memory usage: 6.1+ MB\n"
          ],
          "name": "stdout"
        },
        {
          "output_type": "execute_result",
          "data": {
            "text/plain": [
              "(61210, 13)"
            ]
          },
          "metadata": {
            "tags": []
          },
          "execution_count": 306
        }
      ]
    },
    {
      "cell_type": "code",
      "metadata": {
        "id": "c-luuM7Uqkrv",
        "colab_type": "code",
        "outputId": "56b32bd7-9e29-41f2-ac3b-1cd3225930e2",
        "colab": {
          "base_uri": "https://localhost:8080/",
          "height": 85
        }
      },
      "source": [
        "df.columns"
      ],
      "execution_count": 305,
      "outputs": [
        {
          "output_type": "execute_result",
          "data": {
            "text/plain": [
              "Index(['maker', 'model', 'mileage', 'manufacture_year', 'engine_displacement',\n",
              "       'engine_power', 'stk_year', 'transmission', 'door_count', 'seat_count',\n",
              "       'fuel_type', 'date_created', 'price_eur'],\n",
              "      dtype='object')"
            ]
          },
          "metadata": {
            "tags": []
          },
          "execution_count": 305
        }
      ]
    },
    {
      "cell_type": "markdown",
      "metadata": {
        "id": "jvOamWf_RMNO",
        "colab_type": "text"
      },
      "source": [
        "### Missing Data Handling"
      ]
    },
    {
      "cell_type": "code",
      "metadata": {
        "id": "IOmYl9tir9Aa",
        "colab_type": "code",
        "outputId": "e7a8c389-f034-4aee-8ac4-a4e529c04f8d",
        "colab": {
          "base_uri": "https://localhost:8080/",
          "height": 306
        }
      },
      "source": [
        "df.isnull().sum()"
      ],
      "execution_count": 0,
      "outputs": [
        {
          "output_type": "execute_result",
          "data": {
            "text/plain": [
              "maker                  24928\n",
              "model                  32019\n",
              "mileage                35226\n",
              "manufacture_year       21750\n",
              "engine_displacement    25153\n",
              "engine_power           33270\n",
              "body_type               9886\n",
              "color_slug             61210\n",
              "stk_year                   0\n",
              "transmission           39752\n",
              "door_count                 0\n",
              "seat_count                 0\n",
              "fuel_type                  0\n",
              "date_created               0\n",
              "date_last_seen             1\n",
              "price_eur                  1\n",
              "dtype: int64"
            ]
          },
          "metadata": {
            "tags": []
          },
          "execution_count": 287
        }
      ]
    },
    {
      "cell_type": "code",
      "metadata": {
        "id": "TxtRA9I5JZZJ",
        "colab_type": "code",
        "outputId": "7b0a2d78-ae5b-49b5-a536-38356aa37b1c",
        "colab": {
          "base_uri": "https://localhost:8080/",
          "height": 221
        }
      },
      "source": [
        "df.mileage.value_counts(dropna=False)"
      ],
      "execution_count": 0,
      "outputs": [
        {
          "output_type": "execute_result",
          "data": {
            "text/plain": [
              "NaN          35226\n",
              "100.0          653\n",
              "0.0            176\n",
              "180000.0       150\n",
              "150000.0       144\n",
              "             ...  \n",
              "145050.0         1\n",
              "8197000.0        1\n",
              "631407.0         1\n",
              "169800.0         1\n",
              "125757.0         1\n",
              "Name: mileage, Length: 10925, dtype: int64"
            ]
          },
          "metadata": {
            "tags": []
          },
          "execution_count": 288
        }
      ]
    },
    {
      "cell_type": "code",
      "metadata": {
        "id": "j1AOmbVkqBna",
        "colab_type": "code",
        "colab": {}
      },
      "source": [
        "df.drop(['color_slug','body_type', 'date_last_seen'], axis = 1, inplace = True)"
      ],
      "execution_count": 0,
      "outputs": []
    },
    {
      "cell_type": "code",
      "metadata": {
        "id": "1itTrnXdQjIo",
        "colab_type": "code",
        "outputId": "61b69691-3978-435a-cd43-282588e797de",
        "colab": {
          "base_uri": "https://localhost:8080/",
          "height": 255
        }
      },
      "source": [
        "df.fillna(axis = 0, method ='ffill', inplace = True)\n",
        "df.isnull().sum()"
      ],
      "execution_count": 0,
      "outputs": [
        {
          "output_type": "execute_result",
          "data": {
            "text/plain": [
              "maker                  0\n",
              "model                  0\n",
              "mileage                0\n",
              "manufacture_year       0\n",
              "engine_displacement    0\n",
              "engine_power           0\n",
              "stk_year               0\n",
              "transmission           0\n",
              "door_count             0\n",
              "seat_count             0\n",
              "fuel_type              0\n",
              "date_created           0\n",
              "price_eur              0\n",
              "dtype: int64"
            ]
          },
          "metadata": {
            "tags": []
          },
          "execution_count": 291
        }
      ]
    },
    {
      "cell_type": "markdown",
      "metadata": {
        "id": "uNSKUwy_szgv",
        "colab_type": "text"
      },
      "source": [
        "## Univariate Analysis"
      ]
    },
    {
      "cell_type": "code",
      "metadata": {
        "id": "lvtguBDSt1wH",
        "colab_type": "code",
        "outputId": "7e303233-f61f-4769-e032-563e7dccba58",
        "colab": {
          "base_uri": "https://localhost:8080/",
          "height": 629
        }
      },
      "source": [
        "df.maker.value_counts()"
      ],
      "execution_count": 0,
      "outputs": [
        {
          "output_type": "execute_result",
          "data": {
            "text/plain": [
              "skoda            15401\n",
              "ford              7890\n",
              "bmw               6063\n",
              "audi              4562\n",
              "opel              4253\n",
              "fiat              3493\n",
              "citroen           3465\n",
              "seat              1827\n",
              "hyundai           1629\n",
              "mercedes-benz     1423\n",
              "mazda             1254\n",
              "nissan            1235\n",
              "volvo             1040\n",
              "suzuki            1035\n",
              "toyota            1008\n",
              "kia               1003\n",
              "honda              784\n",
              "mitsubishi         721\n",
              "rover              485\n",
              "chevrolet          483\n",
              "subaru             423\n",
              "chrysler           422\n",
              "jeep               251\n",
              "smart              204\n",
              "mini               182\n",
              "lancia             157\n",
              "porsche            135\n",
              "jaguar             119\n",
              "dodge              116\n",
              "lexus               66\n",
              "hummer              36\n",
              "isuzu               29\n",
              "maserati             7\n",
              "tesla                7\n",
              "bentley              2\n",
              "Name: maker, dtype: int64"
            ]
          },
          "metadata": {
            "tags": []
          },
          "execution_count": 300
        }
      ]
    },
    {
      "cell_type": "code",
      "metadata": {
        "id": "h8JAB5wDp9ln",
        "colab_type": "code",
        "outputId": "2e89cff1-aa11-46fb-8c21-86b1d9dc6d38",
        "colab": {
          "base_uri": "https://localhost:8080/",
          "height": 748
        }
      },
      "source": [
        "sns.set(rc={'figure.figsize':(50,20)})\n",
        "sns.countplot(x = 'maker', data = df)"
      ],
      "execution_count": 0,
      "outputs": [
        {
          "output_type": "execute_result",
          "data": {
            "text/plain": [
              "<matplotlib.axes._subplots.AxesSubplot at 0x7fd900294c50>"
            ]
          },
          "metadata": {
            "tags": []
          },
          "execution_count": 298
        },
        {
          "output_type": "display_data",
          "data": {
            "image/png": "[encoded data removed]",
            "text/plain": [
              "<Figure size 3600x1440 with 1 Axes>"
            ]
          },
          "metadata": {
            "tags": []
          }
        }
      ]
    },
    {
      "cell_type": "code",
      "metadata": {
        "id": "wm-1sQfZSUd6",
        "colab_type": "code",
        "colab": {}
      },
      "source": [
        "column_names = df.columns"
      ],
      "execution_count": 0,
      "outputs": []
    },
    {
      "cell_type": "markdown",
      "metadata": {
        "id": "fVz7JoFiRQmi",
        "colab_type": "text"
      },
      "source": [
        "\n",
        "\n",
        "\n",
        "\n",
        "\n",
        "\n",
        "\n",
        "\n",
        "\n",
        "\n",
        "\n",
        "\n",
        "\n",
        "\n",
        "\n",
        "\n",
        "\n",
        "\n",
        "\n",
        "\n",
        "\n",
        "\n",
        "\n",
        "\n",
        "\n",
        "\n",
        "### Encoding Categorical data"
      ]
    },
    {
      "cell_type": "code",
      "metadata": {
        "id": "LGPPiKvrotuG",
        "colab_type": "code",
        "outputId": "60c542a8-f425-4ba0-fabc-ffd433bbfa4d",
        "colab": {
          "base_uri": "https://localhost:8080/",
          "height": 629
        }
      },
      "source": [
        "df.maker.value_counts()\n"
      ],
      "execution_count": 0,
      "outputs": [
        {
          "output_type": "execute_result",
          "data": {
            "text/plain": [
              "skoda            15401\n",
              "ford              7890\n",
              "bmw               6063\n",
              "audi              4562\n",
              "opel              4253\n",
              "fiat              3493\n",
              "citroen           3465\n",
              "seat              1827\n",
              "hyundai           1629\n",
              "mercedes-benz     1423\n",
              "mazda             1254\n",
              "nissan            1235\n",
              "volvo             1040\n",
              "suzuki            1035\n",
              "toyota            1008\n",
              "kia               1003\n",
              "honda              784\n",
              "mitsubishi         721\n",
              "rover              485\n",
              "chevrolet          483\n",
              "subaru             423\n",
              "chrysler           422\n",
              "jeep               251\n",
              "smart              204\n",
              "mini               182\n",
              "lancia             157\n",
              "porsche            135\n",
              "jaguar             119\n",
              "dodge              116\n",
              "lexus               66\n",
              "hummer              36\n",
              "isuzu               29\n",
              "maserati             7\n",
              "tesla                7\n",
              "bentley              2\n",
              "Name: maker, dtype: int64"
            ]
          },
          "metadata": {
            "tags": []
          },
          "execution_count": 276
        }
      ]
    },
    {
      "cell_type": "code",
      "metadata": {
        "id": "IJC12pRAqZXX",
        "colab_type": "code",
        "outputId": "0fddd80c-0376-45dc-9f1e-e0c26eeb140f",
        "colab": {
          "base_uri": "https://localhost:8080/",
          "height": 204
        }
      },
      "source": [
        "## RAM is not supported for One hot encoding so we will use label encoding\n",
        "df.head()"
      ],
      "execution_count": 0,
      "outputs": [
        {
          "output_type": "execute_result",
          "data": {
            "text/html": [
              "<div>\n",
              "<style scoped>\n",
              "    .dataframe tbody tr th:only-of-type {\n",
              "        vertical-align: middle;\n",
              "    }\n",
              "\n",
              "    .dataframe tbody tr th {\n",
              "        vertical-align: top;\n",
              "    }\n",
              "\n",
              "    .dataframe thead th {\n",
              "        text-align: right;\n",
              "    }\n",
              "</style>\n",
              "<table border=\"1\" class=\"dataframe\">\n",
              "  <thead>\n",
              "    <tr style=\"text-align: right;\">\n",
              "      <th></th>\n",
              "      <th>maker</th>\n",
              "      <th>model</th>\n",
              "      <th>mileage</th>\n",
              "      <th>manufacture_year</th>\n",
              "      <th>engine_displacement</th>\n",
              "      <th>engine_power</th>\n",
              "      <th>stk_year</th>\n",
              "      <th>transmission</th>\n",
              "      <th>door_count</th>\n",
              "      <th>seat_count</th>\n",
              "      <th>fuel_type</th>\n",
              "      <th>date_created</th>\n",
              "      <th>price_eur</th>\n",
              "    </tr>\n",
              "  </thead>\n",
              "  <tbody>\n",
              "    <tr>\n",
              "      <th>0</th>\n",
              "      <td>ford</td>\n",
              "      <td>galaxy</td>\n",
              "      <td>151000.0</td>\n",
              "      <td>2011.0</td>\n",
              "      <td>2000.0</td>\n",
              "      <td>103.0</td>\n",
              "      <td>None</td>\n",
              "      <td>man</td>\n",
              "      <td>5</td>\n",
              "      <td>7</td>\n",
              "      <td>diesel</td>\n",
              "      <td>2015-11-14 18:10:06.838319+00</td>\n",
              "      <td>10584.75</td>\n",
              "    </tr>\n",
              "    <tr>\n",
              "      <th>1</th>\n",
              "      <td>skoda</td>\n",
              "      <td>octavia</td>\n",
              "      <td>143476.0</td>\n",
              "      <td>2012.0</td>\n",
              "      <td>2000.0</td>\n",
              "      <td>81.0</td>\n",
              "      <td>None</td>\n",
              "      <td>man</td>\n",
              "      <td>5</td>\n",
              "      <td>5</td>\n",
              "      <td>diesel</td>\n",
              "      <td>2015-11-14 18:10:06.853411+00</td>\n",
              "      <td>8882.31</td>\n",
              "    </tr>\n",
              "    <tr>\n",
              "      <th>2</th>\n",
              "      <td>bmw</td>\n",
              "      <td>octavia</td>\n",
              "      <td>97676.0</td>\n",
              "      <td>2010.0</td>\n",
              "      <td>1995.0</td>\n",
              "      <td>85.0</td>\n",
              "      <td>None</td>\n",
              "      <td>man</td>\n",
              "      <td>5</td>\n",
              "      <td>5</td>\n",
              "      <td>diesel</td>\n",
              "      <td>2015-11-14 18:10:06.861792+00</td>\n",
              "      <td>12065.06</td>\n",
              "    </tr>\n",
              "    <tr>\n",
              "      <th>3</th>\n",
              "      <td>skoda</td>\n",
              "      <td>fabia</td>\n",
              "      <td>111970.0</td>\n",
              "      <td>2004.0</td>\n",
              "      <td>1200.0</td>\n",
              "      <td>47.0</td>\n",
              "      <td>None</td>\n",
              "      <td>man</td>\n",
              "      <td>5</td>\n",
              "      <td>5</td>\n",
              "      <td>gasoline</td>\n",
              "      <td>2015-11-14 18:10:06.872313+00</td>\n",
              "      <td>2960.77</td>\n",
              "    </tr>\n",
              "    <tr>\n",
              "      <th>4</th>\n",
              "      <td>skoda</td>\n",
              "      <td>fabia</td>\n",
              "      <td>128886.0</td>\n",
              "      <td>2004.0</td>\n",
              "      <td>1200.0</td>\n",
              "      <td>47.0</td>\n",
              "      <td>None</td>\n",
              "      <td>man</td>\n",
              "      <td>5</td>\n",
              "      <td>5</td>\n",
              "      <td>gasoline</td>\n",
              "      <td>2015-11-14 18:10:06.880335+00</td>\n",
              "      <td>2738.71</td>\n",
              "    </tr>\n",
              "  </tbody>\n",
              "</table>\n",
              "</div>"
            ],
            "text/plain": [
              "   maker    model   mileage  ...  fuel_type                   date_created  price_eur\n",
              "0   ford   galaxy  151000.0  ...     diesel  2015-11-14 18:10:06.838319+00   10584.75\n",
              "1  skoda  octavia  143476.0  ...     diesel  2015-11-14 18:10:06.853411+00    8882.31\n",
              "2    bmw  octavia   97676.0  ...     diesel  2015-11-14 18:10:06.861792+00   12065.06\n",
              "3  skoda    fabia  111970.0  ...   gasoline  2015-11-14 18:10:06.872313+00    2960.77\n",
              "4  skoda    fabia  128886.0  ...   gasoline  2015-11-14 18:10:06.880335+00    2738.71\n",
              "\n",
              "[5 rows x 13 columns]"
            ]
          },
          "metadata": {
            "tags": []
          },
          "execution_count": 277
        }
      ]
    },
    {
      "cell_type": "code",
      "metadata": {
        "id": "t2MIj-qAsAQS",
        "colab_type": "code",
        "outputId": "0629b257-fbab-451b-f67d-aeb7bb8fe641",
        "colab": {
          "base_uri": "https://localhost:8080/",
          "height": 255
        }
      },
      "source": [
        "df.dtypes"
      ],
      "execution_count": 0,
      "outputs": [
        {
          "output_type": "execute_result",
          "data": {
            "text/plain": [
              "maker                   object\n",
              "model                   object\n",
              "mileage                float64\n",
              "manufacture_year       float64\n",
              "engine_displacement    float64\n",
              "engine_power           float64\n",
              "stk_year                object\n",
              "transmission            object\n",
              "door_count              object\n",
              "seat_count              object\n",
              "fuel_type               object\n",
              "date_created            object\n",
              "price_eur              float64\n",
              "dtype: object"
            ]
          },
          "metadata": {
            "tags": []
          },
          "execution_count": 278
        }
      ]
    },
    {
      "cell_type": "code",
      "metadata": {
        "id": "QQDZDBvLv5Lg",
        "colab_type": "code",
        "colab": {}
      },
      "source": [
        "from sklearn.preprocessing import LabelEncoder"
      ],
      "execution_count": 0,
      "outputs": []
    },
    {
      "cell_type": "code",
      "metadata": {
        "id": "ELFf4dnjw3qv",
        "colab_type": "code",
        "outputId": "50fd04ca-a930-46a5-99aa-1628a8a9b803",
        "colab": {
          "base_uri": "https://localhost:8080/",
          "height": 68
        }
      },
      "source": [
        "objList = df.select_dtypes(include = \"object\").columns\n",
        "print (objList)"
      ],
      "execution_count": 0,
      "outputs": [
        {
          "output_type": "stream",
          "text": [
            "Index(['maker', 'model', 'stk_year', 'transmission', 'door_count',\n",
            "       'seat_count', 'fuel_type', 'date_created'],\n",
            "      dtype='object')\n"
          ],
          "name": "stdout"
        }
      ]
    },
    {
      "cell_type": "code",
      "metadata": {
        "id": "50luIgDww5ri",
        "colab_type": "code",
        "outputId": "17ea9b2f-6788-4849-9bef-a008ceceac30",
        "colab": {
          "base_uri": "https://localhost:8080/",
          "height": 374
        }
      },
      "source": [
        "le = LabelEncoder()\n",
        "for feat in objList:\n",
        "    df[feat] = le.fit_transform(df[feat].astype(str))\n",
        "\n",
        "print (df.info())"
      ],
      "execution_count": 0,
      "outputs": [
        {
          "output_type": "stream",
          "text": [
            "<class 'pandas.core.frame.DataFrame'>\n",
            "RangeIndex: 61210 entries, 0 to 61209\n",
            "Data columns (total 13 columns):\n",
            " #   Column               Non-Null Count  Dtype  \n",
            "---  ------               --------------  -----  \n",
            " 0   maker                61210 non-null  int64  \n",
            " 1   model                61210 non-null  int64  \n",
            " 2   mileage              61210 non-null  float64\n",
            " 3   manufacture_year     61210 non-null  float64\n",
            " 4   engine_displacement  61210 non-null  float64\n",
            " 5   engine_power         61210 non-null  float64\n",
            " 6   stk_year             61210 non-null  int64  \n",
            " 7   transmission         61210 non-null  int64  \n",
            " 8   door_count           61210 non-null  int64  \n",
            " 9   seat_count           61210 non-null  int64  \n",
            " 10  fuel_type            61210 non-null  int64  \n",
            " 11  date_created         61210 non-null  int64  \n",
            " 12  price_eur            61210 non-null  float64\n",
            "dtypes: float64(5), int64(8)\n",
            "memory usage: 6.1 MB\n",
            "None\n"
          ],
          "name": "stdout"
        }
      ]
    },
    {
      "cell_type": "code",
      "metadata": {
        "id": "ocspPgwow-fH",
        "colab_type": "code",
        "outputId": "e69ed3e9-7ce6-4101-9a34-93eb14d8d677",
        "colab": {
          "base_uri": "https://localhost:8080/",
          "height": 204
        }
      },
      "source": [
        "df.head()"
      ],
      "execution_count": 0,
      "outputs": [
        {
          "output_type": "execute_result",
          "data": {
            "text/html": [
              "<div>\n",
              "<style scoped>\n",
              "    .dataframe tbody tr th:only-of-type {\n",
              "        vertical-align: middle;\n",
              "    }\n",
              "\n",
              "    .dataframe tbody tr th {\n",
              "        vertical-align: top;\n",
              "    }\n",
              "\n",
              "    .dataframe thead th {\n",
              "        text-align: right;\n",
              "    }\n",
              "</style>\n",
              "<table border=\"1\" class=\"dataframe\">\n",
              "  <thead>\n",
              "    <tr style=\"text-align: right;\">\n",
              "      <th></th>\n",
              "      <th>maker</th>\n",
              "      <th>model</th>\n",
              "      <th>mileage</th>\n",
              "      <th>manufacture_year</th>\n",
              "      <th>engine_displacement</th>\n",
              "      <th>engine_power</th>\n",
              "      <th>stk_year</th>\n",
              "      <th>transmission</th>\n",
              "      <th>door_count</th>\n",
              "      <th>seat_count</th>\n",
              "      <th>fuel_type</th>\n",
              "      <th>date_created</th>\n",
              "      <th>price_eur</th>\n",
              "    </tr>\n",
              "  </thead>\n",
              "  <tbody>\n",
              "    <tr>\n",
              "      <th>0</th>\n",
              "      <td>8</td>\n",
              "      <td>202</td>\n",
              "      <td>151000.0</td>\n",
              "      <td>2011.0</td>\n",
              "      <td>2000.0</td>\n",
              "      <td>103.0</td>\n",
              "      <td>44</td>\n",
              "      <td>1</td>\n",
              "      <td>3</td>\n",
              "      <td>5</td>\n",
              "      <td>0</td>\n",
              "      <td>0</td>\n",
              "      <td>10584.75</td>\n",
              "    </tr>\n",
              "    <tr>\n",
              "      <th>1</th>\n",
              "      <td>28</td>\n",
              "      <td>313</td>\n",
              "      <td>143476.0</td>\n",
              "      <td>2012.0</td>\n",
              "      <td>2000.0</td>\n",
              "      <td>81.0</td>\n",
              "      <td>44</td>\n",
              "      <td>1</td>\n",
              "      <td>3</td>\n",
              "      <td>3</td>\n",
              "      <td>0</td>\n",
              "      <td>1</td>\n",
              "      <td>8882.31</td>\n",
              "    </tr>\n",
              "    <tr>\n",
              "      <th>2</th>\n",
              "      <td>2</td>\n",
              "      <td>313</td>\n",
              "      <td>97676.0</td>\n",
              "      <td>2010.0</td>\n",
              "      <td>1995.0</td>\n",
              "      <td>85.0</td>\n",
              "      <td>44</td>\n",
              "      <td>1</td>\n",
              "      <td>3</td>\n",
              "      <td>3</td>\n",
              "      <td>0</td>\n",
              "      <td>2</td>\n",
              "      <td>12065.06</td>\n",
              "    </tr>\n",
              "    <tr>\n",
              "      <th>3</th>\n",
              "      <td>28</td>\n",
              "      <td>188</td>\n",
              "      <td>111970.0</td>\n",
              "      <td>2004.0</td>\n",
              "      <td>1200.0</td>\n",
              "      <td>47.0</td>\n",
              "      <td>44</td>\n",
              "      <td>1</td>\n",
              "      <td>3</td>\n",
              "      <td>3</td>\n",
              "      <td>1</td>\n",
              "      <td>3</td>\n",
              "      <td>2960.77</td>\n",
              "    </tr>\n",
              "    <tr>\n",
              "      <th>4</th>\n",
              "      <td>28</td>\n",
              "      <td>188</td>\n",
              "      <td>128886.0</td>\n",
              "      <td>2004.0</td>\n",
              "      <td>1200.0</td>\n",
              "      <td>47.0</td>\n",
              "      <td>44</td>\n",
              "      <td>1</td>\n",
              "      <td>3</td>\n",
              "      <td>3</td>\n",
              "      <td>1</td>\n",
              "      <td>4</td>\n",
              "      <td>2738.71</td>\n",
              "    </tr>\n",
              "  </tbody>\n",
              "</table>\n",
              "</div>"
            ],
            "text/plain": [
              "   maker  model   mileage  ...  fuel_type  date_created  price_eur\n",
              "0      8    202  151000.0  ...          0             0   10584.75\n",
              "1     28    313  143476.0  ...          0             1    8882.31\n",
              "2      2    313   97676.0  ...          0             2   12065.06\n",
              "3     28    188  111970.0  ...          1             3    2960.77\n",
              "4     28    188  128886.0  ...          1             4    2738.71\n",
              "\n",
              "[5 rows x 13 columns]"
            ]
          },
          "metadata": {
            "tags": []
          },
          "execution_count": 257
        }
      ]
    },
    {
      "cell_type": "markdown",
      "metadata": {
        "id": "omYQasWe_aRh",
        "colab_type": "text"
      },
      "source": [
        "### Feature Scaling\n",
        "\n",
        "Standardization, also called Z-score normalisation."
      ]
    },
    {
      "cell_type": "code",
      "metadata": {
        "id": "lURXR4rxA7Ew",
        "colab_type": "code",
        "colab": {}
      },
      "source": [
        "from sklearn.preprocessing import StandardScaler\n",
        "sc=StandardScaler()"
      ],
      "execution_count": 0,
      "outputs": []
    },
    {
      "cell_type": "code",
      "metadata": {
        "id": "ONVf9mKIA68s",
        "colab_type": "code",
        "colab": {}
      },
      "source": [
        "df = pd.DataFrame(sc.fit_transform(df))\n",
        "df.columns = column_names"
      ],
      "execution_count": 0,
      "outputs": []
    },
    {
      "cell_type": "markdown",
      "metadata": {
        "id": "mX-8DULxfAj1",
        "colab_type": "text"
      },
      "source": [
        "### Outlier Detection"
      ]
    },
    {
      "cell_type": "code",
      "metadata": {
        "id": "filM7EB-WYdY",
        "colab_type": "code",
        "outputId": "acf8cd86-4042-4261-9146-38f60eedbcfa",
        "colab": {
          "base_uri": "https://localhost:8080/",
          "height": 449
        }
      },
      "source": [
        "plt.figure(figsize=(30,7))\n",
        "df.boxplot() \n"
      ],
      "execution_count": 0,
      "outputs": [
        {
          "output_type": "execute_result",
          "data": {
            "text/plain": [
              "<matplotlib.axes._subplots.AxesSubplot at 0x7fd904463b70>"
            ]
          },
          "metadata": {
            "tags": []
          },
          "execution_count": 260
        },
        {
          "output_type": "display_data",
          "data": {
            "image/png": "[encoded data removed]",
            "text/plain": [
              "<Figure size 2160x504 with 1 Axes>"
            ]
          },
          "metadata": {
            "tags": []
          }
        }
      ]
    },
    {
      "cell_type": "code",
      "metadata": {
        "id": "3yVLjX8Ka4KB",
        "colab_type": "code",
        "outputId": "8bab11fc-730d-4156-a54e-55c42af18bdc",
        "colab": {
          "base_uri": "https://localhost:8080/",
          "height": 592
        }
      },
      "source": [
        "\n",
        "sns.set(rc={'figure.figsize':(5, 10)})\n",
        "sns.boxplot(y=df.engine_power)"
      ],
      "execution_count": 0,
      "outputs": [
        {
          "output_type": "execute_result",
          "data": {
            "text/plain": [
              "<matplotlib.axes._subplots.AxesSubplot at 0x7fd904a65a20>"
            ]
          },
          "metadata": {
            "tags": []
          },
          "execution_count": 261
        },
        {
          "output_type": "display_data",
          "data": {
            "image/png": "[encoded data removed]",
            "text/plain": [
              "<Figure size 360x720 with 1 Axes>"
            ]
          },
          "metadata": {
            "tags": []
          }
        }
      ]
    },
    {
      "cell_type": "markdown",
      "metadata": {
        "id": "Qn6vC9KzfJXo",
        "colab_type": "text"
      },
      "source": [
        "### Correlation Plot"
      ]
    },
    {
      "cell_type": "code",
      "metadata": {
        "id": "9kGYUKazfMz7",
        "colab_type": "code",
        "outputId": "27884ef9-1f60-4cf7-ee57-c6bd5063e589",
        "colab": {
          "base_uri": "https://localhost:8080/",
          "height": 777
        }
      },
      "source": [
        "\n",
        "sns.set(rc={'figure.figsize':(18,11)})\n",
        "sns.heatmap(df.corr(), annot = True)\n"
      ],
      "execution_count": 0,
      "outputs": [
        {
          "output_type": "execute_result",
          "data": {
            "text/plain": [
              "<matplotlib.axes._subplots.AxesSubplot at 0x7fd90540ec88>"
            ]
          },
          "metadata": {
            "tags": []
          },
          "execution_count": 262
        },
        {
          "output_type": "display_data",
          "data": {
            "image/png": "[encoded data removed]",
            "text/plain": [
              "<Figure size 1296x792 with 2 Axes>"
            ]
          },
          "metadata": {
            "tags": []
          }
        }
      ]
    },
    {
      "cell_type": "markdown",
      "metadata": {
        "id": "57Qc9S6D-9yT",
        "colab_type": "text"
      },
      "source": [
        "### Splitting the data into inputs and labels"
      ]
    },
    {
      "cell_type": "code",
      "metadata": {
        "id": "ncVkJRFr2obZ",
        "colab_type": "code",
        "outputId": "ef07b2e7-606b-4ad3-f09c-79708b18070d",
        "colab": {
          "base_uri": "https://localhost:8080/",
          "height": 34
        }
      },
      "source": [
        "X = df.iloc[:, :-1]\n",
        "X.shape"
      ],
      "execution_count": 0,
      "outputs": [
        {
          "output_type": "execute_result",
          "data": {
            "text/plain": [
              "(61210, 13)"
            ]
          },
          "metadata": {
            "tags": []
          },
          "execution_count": 57
        }
      ]
    },
    {
      "cell_type": "code",
      "metadata": {
        "id": "bcc7dj-BCDwG",
        "colab_type": "code",
        "colab": {}
      },
      "source": [
        "y = df.iloc[:, -1]"
      ],
      "execution_count": 0,
      "outputs": []
    },
    {
      "cell_type": "code",
      "metadata": {
        "id": "4kM8jg9dCNt7",
        "colab_type": "code",
        "outputId": "80460eef-f0c1-4eaa-a80c-d74455280545",
        "colab": {
          "base_uri": "https://localhost:8080/",
          "height": 34
        }
      },
      "source": [
        "len(y)"
      ],
      "execution_count": 0,
      "outputs": [
        {
          "output_type": "execute_result",
          "data": {
            "text/plain": [
              "61210"
            ]
          },
          "metadata": {
            "tags": []
          },
          "execution_count": 59
        }
      ]
    },
    {
      "cell_type": "markdown",
      "metadata": {
        "id": "fDy8Q_HxCYx4",
        "colab_type": "text"
      },
      "source": [
        "### Splitting the dataset into train test and validation set."
      ]
    },
    {
      "cell_type": "code",
      "metadata": {
        "id": "Dv8MDk3IUyjf",
        "colab_type": "code",
        "colab": {}
      },
      "source": [
        "from sklearn.model_selection import train_test_split"
      ],
      "execution_count": 0,
      "outputs": []
    },
    {
      "cell_type": "code",
      "metadata": {
        "id": "ihT-uxtQCdtW",
        "colab_type": "code",
        "colab": {}
      },
      "source": [
        "X_train, X_test, y_train, y_test = train_test_split(X, y, test_size=0.33, random_state=42)"
      ],
      "execution_count": 0,
      "outputs": []
    },
    {
      "cell_type": "markdown",
      "metadata": {
        "id": "uLcXVimwVB68",
        "colab_type": "text"
      },
      "source": [
        "### Building Linear REgression Model"
      ]
    },
    {
      "cell_type": "code",
      "metadata": {
        "id": "8p13SebZVFyK",
        "colab_type": "code",
        "colab": {}
      },
      "source": [
        "from sklearn.linear_model import LinearRegression"
      ],
      "execution_count": 0,
      "outputs": []
    },
    {
      "cell_type": "code",
      "metadata": {
        "id": "LxKUjxqWVGe8",
        "colab_type": "code",
        "colab": {}
      },
      "source": [
        "reg = LinearRegression().fit(X_train, y_train)"
      ],
      "execution_count": 0,
      "outputs": []
    },
    {
      "cell_type": "code",
      "metadata": {
        "id": "NxDKrA_cVMlA",
        "colab_type": "code",
        "outputId": "55a0e6f4-6251-4e3d-df14-f0b04322c7aa",
        "colab": {
          "base_uri": "https://localhost:8080/",
          "height": 85
        }
      },
      "source": [
        "reg.coef_"
      ],
      "execution_count": 0,
      "outputs": [
        {
          "output_type": "execute_result",
          "data": {
            "text/plain": [
              "array([-4.65128783e-04,  4.74781913e-04, -7.48230554e-05,  7.38469516e-05,\n",
              "        3.52791622e-03, -1.02550774e-03, -2.06861884e-03,  7.55687995e-04,\n",
              "       -5.80997008e-04, -4.81923004e-04, -1.92553764e-04,  1.25995905e-03,\n",
              "       -3.36472168e-03])"
            ]
          },
          "metadata": {
            "tags": []
          },
          "execution_count": 52
        }
      ]
    },
    {
      "cell_type": "code",
      "metadata": {
        "id": "rk9ygjzaVVjB",
        "colab_type": "code",
        "outputId": "57990303-970a-4e78-8de0-408f4cab4631",
        "colab": {
          "base_uri": "https://localhost:8080/",
          "height": 34
        }
      },
      "source": [
        "reg.intercept_"
      ],
      "execution_count": 0,
      "outputs": [
        {
          "output_type": "execute_result",
          "data": {
            "text/plain": [
              "0.0003327166073338259"
            ]
          },
          "metadata": {
            "tags": []
          },
          "execution_count": 53
        }
      ]
    },
    {
      "cell_type": "code",
      "metadata": {
        "id": "-2WcPA9GVaBL",
        "colab_type": "code",
        "colab": {}
      },
      "source": [
        "y_pred = reg.predict(X_test)"
      ],
      "execution_count": 0,
      "outputs": []
    },
    {
      "cell_type": "code",
      "metadata": {
        "id": "dLBNQs7KVgVB",
        "colab_type": "code",
        "outputId": "31b14f29-a858-4892-db14-09e4531e23c7",
        "colab": {
          "base_uri": "https://localhost:8080/",
          "height": 34
        }
      },
      "source": [
        "from sklearn.metrics import mean_squared_error\n",
        "mean_squared_error(y_test, y_pred)"
      ],
      "execution_count": 0,
      "outputs": [
        {
          "output_type": "execute_result",
          "data": {
            "text/plain": [
              "0.01555392809976314"
            ]
          },
          "metadata": {
            "tags": []
          },
          "execution_count": 55
        }
      ]
    }
  ]
}