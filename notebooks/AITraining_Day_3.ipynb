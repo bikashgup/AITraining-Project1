{
  "nbformat": 4,
  "nbformat_minor": 0,
  "metadata": {
    "colab": {
      "name": "AITraining-Day 3",
      "provenance": [],
      "collapsed_sections": [
        "fDy8Q_HxCYx4",
        "uLcXVimwVB68"
      ]
    },
    "kernelspec": {
      "name": "python3",
      "display_name": "Python 3"
    }
  },
  "cells": [
    {
      "cell_type": "markdown",
      "metadata": {
        "id": "2_8JjIHWP46R",
        "colab_type": "text"
      },
      "source": [
        "# Exploratory Data Analysis\n",
        "\n",
        "This notebook is dedicated to the EDA(Exploratory Data Analysis) on the Car Ads dataset. This is done as a practice so please don't expect much to learn much from this notebook.High expectation might result in high frustation. "
      ]
    },
    {
      "cell_type": "code",
      "metadata": {
        "id": "_fQ3hNo4P6EL",
        "colab_type": "code",
        "colab": {}
      },
      "source": [
        "\n",
        "# Importing Libraries\n",
        "import numpy as np\n",
        "import pandas as pd\n",
        "import seaborn as sns\n",
        "import matplotlib.pyplot as plt\n",
        "# warnings.filterwarnings(\"ignore\")\n",
        "%matplotlib inline\n"
      ],
      "execution_count": 0,
      "outputs": []
    },
    {
      "cell_type": "markdown",
      "metadata": {
        "id": "tgfgxS6UqtzJ",
        "colab_type": "text"
      },
      "source": [
        "## Load Data"
      ]
    },
    {
      "cell_type": "code",
      "metadata": {
        "id": "TeW3EQFZnDti",
        "colab_type": "code",
        "colab": {}
      },
      "source": [
        "from google.colab import drive\n",
        "drive.mount('/content/drive/')"
      ],
      "execution_count": 0,
      "outputs": []
    },
    {
      "cell_type": "code",
      "metadata": {
        "id": "kfhDY6XUnD0V",
        "colab_type": "code",
        "outputId": "5931fcd6-ca92-4622-a7b6-23219d245dde",
        "colab": {
          "base_uri": "https://localhost:8080/",
          "height": 54
        }
      },
      "source": [
        "df = pd.read_csv('/content/drive/My Drive/AI Training/car.csv')"
      ],
      "execution_count": 6,
      "outputs": [
        {
          "output_type": "stream",
          "text": [
            "/usr/local/lib/python3.6/dist-packages/IPython/core/interactiveshell.py:2718: DtypeWarning: Columns (7,8,10,11,12) have mixed types.Specify dtype option on import or set low_memory=False.\n",
            "  interactivity=interactivity, compiler=compiler, result=result)\n"
          ],
          "name": "stderr"
        }
      ]
    },
    {
      "cell_type": "code",
      "metadata": {
        "id": "YROIFZfAuwvf",
        "colab_type": "code",
        "outputId": "caf90e3e-a65e-43cb-cb68-9e8d2b0bb205",
        "colab": {
          "base_uri": "https://localhost:8080/",
          "height": 198
        }
      },
      "source": [
        "df.head()"
      ],
      "execution_count": 18,
      "outputs": [
        {
          "output_type": "execute_result",
          "data": {
            "text/html": [
              "<div>\n",
              "<style scoped>\n",
              "    .dataframe tbody tr th:only-of-type {\n",
              "        vertical-align: middle;\n",
              "    }\n",
              "\n",
              "    .dataframe tbody tr th {\n",
              "        vertical-align: top;\n",
              "    }\n",
              "\n",
              "    .dataframe thead th {\n",
              "        text-align: right;\n",
              "    }\n",
              "</style>\n",
              "<table border=\"1\" class=\"dataframe\">\n",
              "  <thead>\n",
              "    <tr style=\"text-align: right;\">\n",
              "      <th></th>\n",
              "      <th>maker</th>\n",
              "      <th>model</th>\n",
              "      <th>mileage</th>\n",
              "      <th>manufacture_year</th>\n",
              "      <th>engine_displacement</th>\n",
              "      <th>engine_power</th>\n",
              "      <th>stk_year</th>\n",
              "      <th>transmission</th>\n",
              "      <th>door_count</th>\n",
              "      <th>seat_count</th>\n",
              "      <th>fuel_type</th>\n",
              "      <th>date_created</th>\n",
              "      <th>price_eur</th>\n",
              "    </tr>\n",
              "  </thead>\n",
              "  <tbody>\n",
              "    <tr>\n",
              "      <th>0</th>\n",
              "      <td>ford</td>\n",
              "      <td>galaxy</td>\n",
              "      <td>151000.0</td>\n",
              "      <td>2011.0</td>\n",
              "      <td>2000.0</td>\n",
              "      <td>103.0</td>\n",
              "      <td>None</td>\n",
              "      <td>man</td>\n",
              "      <td>5</td>\n",
              "      <td>7</td>\n",
              "      <td>diesel</td>\n",
              "      <td>2015-11-14 18:10:06.838319+00</td>\n",
              "      <td>10584.75</td>\n",
              "    </tr>\n",
              "    <tr>\n",
              "      <th>1</th>\n",
              "      <td>skoda</td>\n",
              "      <td>octavia</td>\n",
              "      <td>143476.0</td>\n",
              "      <td>2012.0</td>\n",
              "      <td>2000.0</td>\n",
              "      <td>81.0</td>\n",
              "      <td>None</td>\n",
              "      <td>man</td>\n",
              "      <td>5</td>\n",
              "      <td>5</td>\n",
              "      <td>diesel</td>\n",
              "      <td>2015-11-14 18:10:06.853411+00</td>\n",
              "      <td>8882.31</td>\n",
              "    </tr>\n",
              "    <tr>\n",
              "      <th>2</th>\n",
              "      <td>bmw</td>\n",
              "      <td>NaN</td>\n",
              "      <td>97676.0</td>\n",
              "      <td>2010.0</td>\n",
              "      <td>1995.0</td>\n",
              "      <td>85.0</td>\n",
              "      <td>None</td>\n",
              "      <td>man</td>\n",
              "      <td>5</td>\n",
              "      <td>5</td>\n",
              "      <td>diesel</td>\n",
              "      <td>2015-11-14 18:10:06.861792+00</td>\n",
              "      <td>12065.06</td>\n",
              "    </tr>\n",
              "    <tr>\n",
              "      <th>3</th>\n",
              "      <td>skoda</td>\n",
              "      <td>fabia</td>\n",
              "      <td>111970.0</td>\n",
              "      <td>2004.0</td>\n",
              "      <td>1200.0</td>\n",
              "      <td>47.0</td>\n",
              "      <td>None</td>\n",
              "      <td>man</td>\n",
              "      <td>5</td>\n",
              "      <td>5</td>\n",
              "      <td>gasoline</td>\n",
              "      <td>2015-11-14 18:10:06.872313+00</td>\n",
              "      <td>2960.77</td>\n",
              "    </tr>\n",
              "    <tr>\n",
              "      <th>4</th>\n",
              "      <td>skoda</td>\n",
              "      <td>fabia</td>\n",
              "      <td>128886.0</td>\n",
              "      <td>2004.0</td>\n",
              "      <td>1200.0</td>\n",
              "      <td>47.0</td>\n",
              "      <td>None</td>\n",
              "      <td>man</td>\n",
              "      <td>5</td>\n",
              "      <td>5</td>\n",
              "      <td>gasoline</td>\n",
              "      <td>2015-11-14 18:10:06.880335+00</td>\n",
              "      <td>2738.71</td>\n",
              "    </tr>\n",
              "  </tbody>\n",
              "</table>\n",
              "</div>"
            ],
            "text/plain": [
              "   maker    model   mileage  ...  fuel_type                   date_created  price_eur\n",
              "0   ford   galaxy  151000.0  ...     diesel  2015-11-14 18:10:06.838319+00   10584.75\n",
              "1  skoda  octavia  143476.0  ...     diesel  2015-11-14 18:10:06.853411+00    8882.31\n",
              "2    bmw      NaN   97676.0  ...     diesel  2015-11-14 18:10:06.861792+00   12065.06\n",
              "3  skoda    fabia  111970.0  ...   gasoline  2015-11-14 18:10:06.872313+00    2960.77\n",
              "4  skoda    fabia  128886.0  ...   gasoline  2015-11-14 18:10:06.880335+00    2738.71\n",
              "\n",
              "[5 rows x 13 columns]"
            ]
          },
          "metadata": {
            "tags": []
          },
          "execution_count": 18
        }
      ]
    },
    {
      "cell_type": "markdown",
      "metadata": {
        "id": "xFcBi7Hl0AJi",
        "colab_type": "text"
      },
      "source": [
        "This is a car Ads dataset. Just see the number of rows and columns in the dataset and realise the amount of RAM you may need.\n",
        "\n"
      ]
    },
    {
      "cell_type": "code",
      "metadata": {
        "id": "Ig3uwDm50iDv",
        "colab_type": "code",
        "outputId": "94e2b6af-210e-4462-bcdb-efc648f2ee4f",
        "colab": {
          "base_uri": "https://localhost:8080/",
          "height": 90
        }
      },
      "source": [
        "df.columns"
      ],
      "execution_count": 19,
      "outputs": [
        {
          "output_type": "execute_result",
          "data": {
            "text/plain": [
              "Index(['maker', 'model', 'mileage', 'manufacture_year', 'engine_displacement',\n",
              "       'engine_power', 'stk_year', 'transmission', 'door_count', 'seat_count',\n",
              "       'fuel_type', 'date_created', 'price_eur'],\n",
              "      dtype='object')"
            ]
          },
          "metadata": {
            "tags": []
          },
          "execution_count": 19
        }
      ]
    },
    {
      "cell_type": "code",
      "metadata": {
        "id": "d0xc7ID8n00A",
        "colab_type": "code",
        "outputId": "775f8023-01e2-4ec3-ba30-ecfac48bfd7a",
        "colab": {
          "base_uri": "https://localhost:8080/",
          "height": 381
        }
      },
      "source": [
        "df.info() ## Just for information."
      ],
      "execution_count": 20,
      "outputs": [
        {
          "output_type": "stream",
          "text": [
            "<class 'pandas.core.frame.DataFrame'>\n",
            "RangeIndex: 3552912 entries, 0 to 3552911\n",
            "Data columns (total 13 columns):\n",
            " #   Column               Dtype  \n",
            "---  ------               -----  \n",
            " 0   maker                object \n",
            " 1   model                object \n",
            " 2   mileage              float64\n",
            " 3   manufacture_year     float64\n",
            " 4   engine_displacement  float64\n",
            " 5   engine_power         float64\n",
            " 6   stk_year             object \n",
            " 7   transmission         object \n",
            " 8   door_count           object \n",
            " 9   seat_count           object \n",
            " 10  fuel_type            object \n",
            " 11  date_created         object \n",
            " 12  price_eur            float64\n",
            "dtypes: float64(5), object(8)\n",
            "memory usage: 352.4+ MB\n"
          ],
          "name": "stdout"
        }
      ]
    },
    {
      "cell_type": "code",
      "metadata": {
        "id": "QPCgN1D60yZJ",
        "colab_type": "code",
        "outputId": "b5afdd7c-304b-497f-9398-2d0b820bd080",
        "colab": {
          "base_uri": "https://localhost:8080/",
          "height": 615
        }
      },
      "source": [
        "sns.set(rc={'figure.figsize':(10,8)})\n",
        "sns.heatmap(df.corr(), annot = True)"
      ],
      "execution_count": 21,
      "outputs": [
        {
          "output_type": "execute_result",
          "data": {
            "text/plain": [
              "<matplotlib.axes._subplots.AxesSubplot at 0x7f2e0c1720f0>"
            ]
          },
          "metadata": {
            "tags": []
          },
          "execution_count": 21
        },
        {
          "output_type": "display_data",
          "data": {
            "image/png": "[encoded data removed]",
            "text/plain": [
              "<Figure size 720x576 with 2 Axes>"
            ]
          },
          "metadata": {
            "tags": []
          }
        }
      ]
    },
    {
      "cell_type": "markdown",
      "metadata": {
        "id": "Z47AX7IrqAng",
        "colab_type": "text"
      },
      "source": [
        "Here, correlation plot is shown only for the numeric columns. This is just for the visualisation not for any kinds of interpretation. Later we will see correlation plot with different objective."
      ]
    },
    {
      "cell_type": "markdown",
      "metadata": {
        "id": "jvOamWf_RMNO",
        "colab_type": "text"
      },
      "source": [
        "### Missing Data Handling"
      ]
    },
    {
      "cell_type": "code",
      "metadata": {
        "id": "IOmYl9tir9Aa",
        "colab_type": "code",
        "outputId": "a5541af6-9f4d-4896-b590-a5589b0e63ac",
        "colab": {
          "base_uri": "https://localhost:8080/",
          "height": 272
        }
      },
      "source": [
        "df.isnull().sum()"
      ],
      "execution_count": 22,
      "outputs": [
        {
          "output_type": "execute_result",
          "data": {
            "text/plain": [
              "maker                   518915\n",
              "model                  1133361\n",
              "mileage                 362584\n",
              "manufacture_year        370578\n",
              "engine_displacement     743414\n",
              "engine_power            554877\n",
              "stk_year               1708156\n",
              "transmission            741630\n",
              "door_count              614373\n",
              "seat_count              749489\n",
              "fuel_type              1847606\n",
              "date_created                 0\n",
              "price_eur                    0\n",
              "dtype: int64"
            ]
          },
          "metadata": {
            "tags": []
          },
          "execution_count": 22
        }
      ]
    },
    {
      "cell_type": "markdown",
      "metadata": {
        "id": "TsEEn2UEzZVV",
        "colab_type": "text"
      },
      "source": [
        "Here, we can see that there are lots of missing values for almost all variables.  Deletion technique to handle the missing values is infeasible here since we can lose almost all the rows if we do so. So let's try out other techniques."
      ]
    },
    {
      "cell_type": "code",
      "metadata": {
        "id": "EL2vEW0VpTUb",
        "colab_type": "code",
        "outputId": "513e225f-7cdc-4d40-9f42-b268ba6fd42d",
        "colab": {
          "base_uri": "https://localhost:8080/",
          "height": 438
        }
      },
      "source": [
        "percent_missing = df.isnull().sum() * 100 / len(df)\n",
        "missing_value_df = pd.DataFrame({'column_name': df.columns,\n",
        "                                 'percent_missing': percent_missing})\n",
        "missing_value_df.sort_values('percent_missing', inplace=True)\n",
        "missing_value_df"
      ],
      "execution_count": 23,
      "outputs": [
        {
          "output_type": "execute_result",
          "data": {
            "text/html": [
              "<div>\n",
              "<style scoped>\n",
              "    .dataframe tbody tr th:only-of-type {\n",
              "        vertical-align: middle;\n",
              "    }\n",
              "\n",
              "    .dataframe tbody tr th {\n",
              "        vertical-align: top;\n",
              "    }\n",
              "\n",
              "    .dataframe thead th {\n",
              "        text-align: right;\n",
              "    }\n",
              "</style>\n",
              "<table border=\"1\" class=\"dataframe\">\n",
              "  <thead>\n",
              "    <tr style=\"text-align: right;\">\n",
              "      <th></th>\n",
              "      <th>column_name</th>\n",
              "      <th>percent_missing</th>\n",
              "    </tr>\n",
              "  </thead>\n",
              "  <tbody>\n",
              "    <tr>\n",
              "      <th>date_created</th>\n",
              "      <td>date_created</td>\n",
              "      <td>0.000000</td>\n",
              "    </tr>\n",
              "    <tr>\n",
              "      <th>price_eur</th>\n",
              "      <td>price_eur</td>\n",
              "      <td>0.000000</td>\n",
              "    </tr>\n",
              "    <tr>\n",
              "      <th>mileage</th>\n",
              "      <td>mileage</td>\n",
              "      <td>10.205263</td>\n",
              "    </tr>\n",
              "    <tr>\n",
              "      <th>manufacture_year</th>\n",
              "      <td>manufacture_year</td>\n",
              "      <td>10.430261</td>\n",
              "    </tr>\n",
              "    <tr>\n",
              "      <th>maker</th>\n",
              "      <td>maker</td>\n",
              "      <td>14.605343</td>\n",
              "    </tr>\n",
              "    <tr>\n",
              "      <th>engine_power</th>\n",
              "      <td>engine_power</td>\n",
              "      <td>15.617527</td>\n",
              "    </tr>\n",
              "    <tr>\n",
              "      <th>door_count</th>\n",
              "      <td>door_count</td>\n",
              "      <td>17.292097</td>\n",
              "    </tr>\n",
              "    <tr>\n",
              "      <th>transmission</th>\n",
              "      <td>transmission</td>\n",
              "      <td>20.873863</td>\n",
              "    </tr>\n",
              "    <tr>\n",
              "      <th>engine_displacement</th>\n",
              "      <td>engine_displacement</td>\n",
              "      <td>20.924076</td>\n",
              "    </tr>\n",
              "    <tr>\n",
              "      <th>seat_count</th>\n",
              "      <td>seat_count</td>\n",
              "      <td>21.095062</td>\n",
              "    </tr>\n",
              "    <tr>\n",
              "      <th>model</th>\n",
              "      <td>model</td>\n",
              "      <td>31.899495</td>\n",
              "    </tr>\n",
              "    <tr>\n",
              "      <th>stk_year</th>\n",
              "      <td>stk_year</td>\n",
              "      <td>48.077633</td>\n",
              "    </tr>\n",
              "    <tr>\n",
              "      <th>fuel_type</th>\n",
              "      <td>fuel_type</td>\n",
              "      <td>52.002583</td>\n",
              "    </tr>\n",
              "  </tbody>\n",
              "</table>\n",
              "</div>"
            ],
            "text/plain": [
              "                             column_name  percent_missing\n",
              "date_created                date_created         0.000000\n",
              "price_eur                      price_eur         0.000000\n",
              "mileage                          mileage        10.205263\n",
              "manufacture_year        manufacture_year        10.430261\n",
              "maker                              maker        14.605343\n",
              "engine_power                engine_power        15.617527\n",
              "door_count                    door_count        17.292097\n",
              "transmission                transmission        20.873863\n",
              "engine_displacement  engine_displacement        20.924076\n",
              "seat_count                    seat_count        21.095062\n",
              "model                              model        31.899495\n",
              "stk_year                        stk_year        48.077633\n",
              "fuel_type                      fuel_type        52.002583"
            ]
          },
          "metadata": {
            "tags": []
          },
          "execution_count": 23
        }
      ]
    },
    {
      "cell_type": "code",
      "metadata": {
        "id": "j1AOmbVkqBna",
        "colab_type": "code",
        "colab": {}
      },
      "source": [
        "df.drop(['color_slug','body_type', 'date_last_seen'], axis = 1, inplace = True)"
      ],
      "execution_count": 0,
      "outputs": []
    },
    {
      "cell_type": "markdown",
      "metadata": {
        "id": "_GSrH6kLowSN",
        "colab_type": "text"
      },
      "source": [
        "These columns are dropped since, they have almost 0 correlation with the output variable."
      ]
    },
    {
      "cell_type": "code",
      "metadata": {
        "id": "P2BpCpyyF_jA",
        "colab_type": "code",
        "outputId": "ff1a5abf-f727-44ff-c9bb-5d92c46b7c54",
        "colab": {
          "base_uri": "https://localhost:8080/",
          "height": 168
        }
      },
      "source": [
        "df.describe(include ='O')"
      ],
      "execution_count": 26,
      "outputs": [
        {
          "output_type": "execute_result",
          "data": {
            "text/html": [
              "<div>\n",
              "<style scoped>\n",
              "    .dataframe tbody tr th:only-of-type {\n",
              "        vertical-align: middle;\n",
              "    }\n",
              "\n",
              "    .dataframe tbody tr th {\n",
              "        vertical-align: top;\n",
              "    }\n",
              "\n",
              "    .dataframe thead th {\n",
              "        text-align: right;\n",
              "    }\n",
              "</style>\n",
              "<table border=\"1\" class=\"dataframe\">\n",
              "  <thead>\n",
              "    <tr style=\"text-align: right;\">\n",
              "      <th></th>\n",
              "      <th>maker</th>\n",
              "      <th>model</th>\n",
              "      <th>stk_year</th>\n",
              "      <th>transmission</th>\n",
              "      <th>door_count</th>\n",
              "      <th>seat_count</th>\n",
              "      <th>fuel_type</th>\n",
              "      <th>date_created</th>\n",
              "    </tr>\n",
              "  </thead>\n",
              "  <tbody>\n",
              "    <tr>\n",
              "      <th>count</th>\n",
              "      <td>3033997</td>\n",
              "      <td>2419551</td>\n",
              "      <td>1844756</td>\n",
              "      <td>2811282</td>\n",
              "      <td>2938539.0</td>\n",
              "      <td>2803423.0</td>\n",
              "      <td>1705306</td>\n",
              "      <td>3552912</td>\n",
              "    </tr>\n",
              "    <tr>\n",
              "      <th>unique</th>\n",
              "      <td>46</td>\n",
              "      <td>1012</td>\n",
              "      <td>298</td>\n",
              "      <td>2</td>\n",
              "      <td>26.0</td>\n",
              "      <td>88.0</td>\n",
              "      <td>5</td>\n",
              "      <td>3552912</td>\n",
              "    </tr>\n",
              "    <tr>\n",
              "      <th>top</th>\n",
              "      <td>skoda</td>\n",
              "      <td>octavia</td>\n",
              "      <td>None</td>\n",
              "      <td>man</td>\n",
              "      <td>5.0</td>\n",
              "      <td>5.0</td>\n",
              "      <td>gasoline</td>\n",
              "      <td>2016-10-08 19:21:00.56613+00</td>\n",
              "    </tr>\n",
              "    <tr>\n",
              "      <th>freq</th>\n",
              "      <td>313830</td>\n",
              "      <td>129563</td>\n",
              "      <td>1308651</td>\n",
              "      <td>2021990</td>\n",
              "      <td>777522.0</td>\n",
              "      <td>1084557.0</td>\n",
              "      <td>902222</td>\n",
              "      <td>1</td>\n",
              "    </tr>\n",
              "  </tbody>\n",
              "</table>\n",
              "</div>"
            ],
            "text/plain": [
              "          maker    model  ... fuel_type                  date_created\n",
              "count   3033997  2419551  ...   1705306                       3552912\n",
              "unique       46     1012  ...         5                       3552912\n",
              "top       skoda  octavia  ...  gasoline  2016-10-08 19:21:00.56613+00\n",
              "freq     313830   129563  ...    902222                             1\n",
              "\n",
              "[4 rows x 8 columns]"
            ]
          },
          "metadata": {
            "tags": []
          },
          "execution_count": 26
        }
      ]
    },
    {
      "cell_type": "code",
      "metadata": {
        "id": "aDkQxFyjGDKF",
        "colab_type": "code",
        "outputId": "a7637131-2392-495c-ec99-000332eb8cc3",
        "colab": {
          "base_uri": "https://localhost:8080/",
          "height": 35
        }
      },
      "source": [
        "df.fuel_type.unique()"
      ],
      "execution_count": 27,
      "outputs": [
        {
          "output_type": "execute_result",
          "data": {
            "text/plain": [
              "array(['diesel', 'gasoline', nan, 'lpg', 'cng', 'electric'], dtype=object)"
            ]
          },
          "metadata": {
            "tags": []
          },
          "execution_count": 27
        }
      ]
    },
    {
      "cell_type": "code",
      "metadata": {
        "id": "hyW6E3-FGDP6",
        "colab_type": "code",
        "outputId": "7b7def9f-3f57-4eb3-9617-54dbb7b28864",
        "colab": {
          "base_uri": "https://localhost:8080/",
          "height": 35
        }
      },
      "source": [
        "df.transmission.unique()"
      ],
      "execution_count": 28,
      "outputs": [
        {
          "output_type": "execute_result",
          "data": {
            "text/plain": [
              "array(['man', 'auto', nan], dtype=object)"
            ]
          },
          "metadata": {
            "tags": []
          },
          "execution_count": 28
        }
      ]
    },
    {
      "cell_type": "code",
      "metadata": {
        "id": "hSgeKgnfGDV9",
        "colab_type": "code",
        "outputId": "7a268133-ced5-4f3a-8787-0e8b68c6b4cb",
        "colab": {
          "base_uri": "https://localhost:8080/",
          "height": 228
        }
      },
      "source": [
        "pd.crosstab(index = df['fuel_type'], columns=df['transmission'])"
      ],
      "execution_count": 29,
      "outputs": [
        {
          "output_type": "execute_result",
          "data": {
            "text/html": [
              "<div>\n",
              "<style scoped>\n",
              "    .dataframe tbody tr th:only-of-type {\n",
              "        vertical-align: middle;\n",
              "    }\n",
              "\n",
              "    .dataframe tbody tr th {\n",
              "        vertical-align: top;\n",
              "    }\n",
              "\n",
              "    .dataframe thead th {\n",
              "        text-align: right;\n",
              "    }\n",
              "</style>\n",
              "<table border=\"1\" class=\"dataframe\">\n",
              "  <thead>\n",
              "    <tr style=\"text-align: right;\">\n",
              "      <th>transmission</th>\n",
              "      <th>auto</th>\n",
              "      <th>man</th>\n",
              "    </tr>\n",
              "    <tr>\n",
              "      <th>fuel_type</th>\n",
              "      <th></th>\n",
              "      <th></th>\n",
              "    </tr>\n",
              "  </thead>\n",
              "  <tbody>\n",
              "    <tr>\n",
              "      <th>cng</th>\n",
              "      <td>114</td>\n",
              "      <td>685</td>\n",
              "    </tr>\n",
              "    <tr>\n",
              "      <th>diesel</th>\n",
              "      <td>220405</td>\n",
              "      <td>422153</td>\n",
              "    </tr>\n",
              "    <tr>\n",
              "      <th>electric</th>\n",
              "      <td>5784</td>\n",
              "      <td>4449</td>\n",
              "    </tr>\n",
              "    <tr>\n",
              "      <th>gasoline</th>\n",
              "      <td>141860</td>\n",
              "      <td>480686</td>\n",
              "    </tr>\n",
              "    <tr>\n",
              "      <th>lpg</th>\n",
              "      <td>1018</td>\n",
              "      <td>2351</td>\n",
              "    </tr>\n",
              "  </tbody>\n",
              "</table>\n",
              "</div>"
            ],
            "text/plain": [
              "transmission    auto     man\n",
              "fuel_type                   \n",
              "cng              114     685\n",
              "diesel        220405  422153\n",
              "electric        5784    4449\n",
              "gasoline      141860  480686\n",
              "lpg             1018    2351"
            ]
          },
          "metadata": {
            "tags": []
          },
          "execution_count": 29
        }
      ]
    },
    {
      "cell_type": "markdown",
      "metadata": {
        "id": "524TiQo3uohu",
        "colab_type": "text"
      },
      "source": [
        "Here, we can see the relation between two columns i.e., transmission and fuel_type. We can use this knowledge to handle the missing data."
      ]
    },
    {
      "cell_type": "code",
      "metadata": {
        "id": "5oFb6GIkh4cQ",
        "colab_type": "code",
        "colab": {}
      },
      "source": [
        "def my_func(row):\n",
        "  ##conditions\n",
        "  pass\n",
        "  "
      ],
      "execution_count": 0,
      "outputs": []
    },
    {
      "cell_type": "code",
      "metadata": {
        "id": "EH0ttjHTCZVf",
        "colab_type": "code",
        "colab": {}
      },
      "source": [
        "# df['transmission'] = df.apply(lambda row: my_func(row) if pd.isnull(row['transmission']) else row, axis=1)"
      ],
      "execution_count": 0,
      "outputs": []
    },
    {
      "cell_type": "markdown",
      "metadata": {
        "id": "2ZD6A7CCoHsF",
        "colab_type": "text"
      },
      "source": [
        "Here, lambda function was used to fill the null values based on the multivariate analysis as shown in teh above cells but due to large data size, RAM didn't support so other techniques are used."
      ]
    },
    {
      "cell_type": "code",
      "metadata": {
        "id": "wMrpAFIvulu_",
        "colab_type": "code",
        "colab": {}
      },
      "source": [
        "df['maker'].fillna(df['maker'].mode()[0], inplace=True) "
      ],
      "execution_count": 0,
      "outputs": []
    },
    {
      "cell_type": "markdown",
      "metadata": {
        "id": "IodiKEgx_eRA",
        "colab_type": "text"
      },
      "source": [
        "Let us fill the null value in the column of `manufacture_year`, `mileage` with respective mean values grouped by `maker`."
      ]
    },
    {
      "cell_type": "code",
      "metadata": {
        "id": "DS9UEHb-_hsB",
        "colab_type": "code",
        "colab": {}
      },
      "source": [
        "df[\"manufacture_year\"] = df.groupby(\"maker\")['manufacture_year'].transform(lambda x: x.fillna(x.mean()))\n",
        "df[\"mileage\"] = df.groupby(\"maker\")['mileage'].transform(lambda x: x.fillna(x.mean()))"
      ],
      "execution_count": 0,
      "outputs": []
    },
    {
      "cell_type": "code",
      "metadata": {
        "id": "y7M6zu5S_Q8N",
        "colab_type": "code",
        "colab": {}
      },
      "source": [
        "df['transmission'].fillna(df['transmission'].mode()[0], inplace=True) \n",
        "df['door_count'].fillna(df['door_count'].mode()[0], inplace=True) \n",
        "df['seat_count'].fillna(df['seat_count'].mode()[0], inplace=True) \n",
        "\n",
        "\n",
        "df['engine_displacement'].fillna(float(int(df['engine_displacement'].mean())), inplace=True)"
      ],
      "execution_count": 0,
      "outputs": []
    },
    {
      "cell_type": "code",
      "metadata": {
        "id": "1itTrnXdQjIo",
        "colab_type": "code",
        "outputId": "bd95f316-adf3-41c6-c8b3-7dacf7493d56",
        "colab": {
          "base_uri": "https://localhost:8080/",
          "height": 272
        }
      },
      "source": [
        "df.fillna(axis = 0, method ='ffill', inplace = True)\n",
        "df.isnull().sum()"
      ],
      "execution_count": 35,
      "outputs": [
        {
          "output_type": "execute_result",
          "data": {
            "text/plain": [
              "maker                  0\n",
              "model                  0\n",
              "mileage                0\n",
              "manufacture_year       0\n",
              "engine_displacement    0\n",
              "engine_power           0\n",
              "stk_year               0\n",
              "transmission           0\n",
              "door_count             0\n",
              "seat_count             0\n",
              "fuel_type              0\n",
              "date_created           0\n",
              "price_eur              0\n",
              "dtype: int64"
            ]
          },
          "metadata": {
            "tags": []
          },
          "execution_count": 35
        }
      ]
    },
    {
      "cell_type": "markdown",
      "metadata": {
        "id": "3BfVM7wLosLh",
        "colab_type": "text"
      },
      "source": [
        "Now, we don't have missing values."
      ]
    },
    {
      "cell_type": "code",
      "metadata": {
        "id": "V11GzpsdRI4P",
        "colab_type": "code",
        "colab": {}
      },
      "source": [
        "column_names = df.columns"
      ],
      "execution_count": 0,
      "outputs": []
    },
    {
      "cell_type": "markdown",
      "metadata": {
        "id": "uNSKUwy_szgv",
        "colab_type": "text"
      },
      "source": [
        "## Univariate Analysis"
      ]
    },
    {
      "cell_type": "code",
      "metadata": {
        "id": "h8JAB5wDp9ln",
        "colab_type": "code",
        "outputId": "ebbfcf84-35ae-4d2b-e358-9cad8e40ee59",
        "colab": {
          "base_uri": "https://localhost:8080/",
          "height": 679
        }
      },
      "source": [
        "sns.set(rc={'figure.figsize':(50,20)})\n",
        "sns.countplot(x = 'maker', data = df)"
      ],
      "execution_count": 37,
      "outputs": [
        {
          "output_type": "execute_result",
          "data": {
            "text/plain": [
              "<matplotlib.axes._subplots.AxesSubplot at 0x7f2e0c070940>"
            ]
          },
          "metadata": {
            "tags": []
          },
          "execution_count": 37
        },
        {
          "output_type": "display_data",
          "data": {
            "image/png": "[encoded data removed]",
            "text/plain": [
              "<Figure size 3600x1440 with 1 Axes>"
            ]
          },
          "metadata": {
            "tags": []
          }
        }
      ]
    },
    {
      "cell_type": "markdown",
      "metadata": {
        "id": "L6pYSyD1eipq",
        "colab_type": "text"
      },
      "source": [
        "## Bivariate Analysis\n",
        "\n"
      ]
    },
    {
      "cell_type": "code",
      "metadata": {
        "id": "b6L1qxAnQGks",
        "colab_type": "code",
        "outputId": "53fe8a7c-1edf-4b68-abec-d29c5d01f697",
        "colab": {
          "base_uri": "https://localhost:8080/",
          "height": 168
        }
      },
      "source": [
        "df.describe(include ='O')"
      ],
      "execution_count": 38,
      "outputs": [
        {
          "output_type": "execute_result",
          "data": {
            "text/html": [
              "<div>\n",
              "<style scoped>\n",
              "    .dataframe tbody tr th:only-of-type {\n",
              "        vertical-align: middle;\n",
              "    }\n",
              "\n",
              "    .dataframe tbody tr th {\n",
              "        vertical-align: top;\n",
              "    }\n",
              "\n",
              "    .dataframe thead th {\n",
              "        text-align: right;\n",
              "    }\n",
              "</style>\n",
              "<table border=\"1\" class=\"dataframe\">\n",
              "  <thead>\n",
              "    <tr style=\"text-align: right;\">\n",
              "      <th></th>\n",
              "      <th>maker</th>\n",
              "      <th>model</th>\n",
              "      <th>stk_year</th>\n",
              "      <th>transmission</th>\n",
              "      <th>door_count</th>\n",
              "      <th>seat_count</th>\n",
              "      <th>fuel_type</th>\n",
              "      <th>date_created</th>\n",
              "    </tr>\n",
              "  </thead>\n",
              "  <tbody>\n",
              "    <tr>\n",
              "      <th>count</th>\n",
              "      <td>3552912</td>\n",
              "      <td>3552912</td>\n",
              "      <td>3552912</td>\n",
              "      <td>3552912</td>\n",
              "      <td>3552912.0</td>\n",
              "      <td>3552912.0</td>\n",
              "      <td>3552912</td>\n",
              "      <td>3552912</td>\n",
              "    </tr>\n",
              "    <tr>\n",
              "      <th>unique</th>\n",
              "      <td>46</td>\n",
              "      <td>1012</td>\n",
              "      <td>298</td>\n",
              "      <td>2</td>\n",
              "      <td>26.0</td>\n",
              "      <td>88.0</td>\n",
              "      <td>5</td>\n",
              "      <td>3552912</td>\n",
              "    </tr>\n",
              "    <tr>\n",
              "      <th>top</th>\n",
              "      <td>skoda</td>\n",
              "      <td>octavia</td>\n",
              "      <td>None</td>\n",
              "      <td>man</td>\n",
              "      <td>5.0</td>\n",
              "      <td>5.0</td>\n",
              "      <td>diesel</td>\n",
              "      <td>2016-10-08 19:21:00.56613+00</td>\n",
              "    </tr>\n",
              "    <tr>\n",
              "      <th>freq</th>\n",
              "      <td>832745</td>\n",
              "      <td>169235</td>\n",
              "      <td>1308652</td>\n",
              "      <td>2763620</td>\n",
              "      <td>1391895.0</td>\n",
              "      <td>1834046.0</td>\n",
              "      <td>2474568</td>\n",
              "      <td>1</td>\n",
              "    </tr>\n",
              "  </tbody>\n",
              "</table>\n",
              "</div>"
            ],
            "text/plain": [
              "          maker    model  ... fuel_type                  date_created\n",
              "count   3552912  3552912  ...   3552912                       3552912\n",
              "unique       46     1012  ...         5                       3552912\n",
              "top       skoda  octavia  ...    diesel  2016-10-08 19:21:00.56613+00\n",
              "freq     832745   169235  ...   2474568                             1\n",
              "\n",
              "[4 rows x 8 columns]"
            ]
          },
          "metadata": {
            "tags": []
          },
          "execution_count": 38
        }
      ]
    },
    {
      "cell_type": "code",
      "metadata": {
        "id": "mJmp4RP0QGjK",
        "colab_type": "code",
        "outputId": "28c2d8c7-44fb-4802-fdee-9fb7af4e477d",
        "colab": {
          "base_uri": "https://localhost:8080/",
          "height": 35
        }
      },
      "source": [
        "df.fuel_type.unique()"
      ],
      "execution_count": 39,
      "outputs": [
        {
          "output_type": "execute_result",
          "data": {
            "text/plain": [
              "array(['diesel', 'gasoline', 'lpg', 'cng', 'electric'], dtype=object)"
            ]
          },
          "metadata": {
            "tags": []
          },
          "execution_count": 39
        }
      ]
    },
    {
      "cell_type": "code",
      "metadata": {
        "id": "5HsqIwmjQrWo",
        "colab_type": "code",
        "outputId": "d9163346-12da-40af-8a31-a7b32e6c987b",
        "colab": {
          "base_uri": "https://localhost:8080/",
          "height": 228
        }
      },
      "source": [
        "pd.crosstab(index = df['fuel_type'], columns=df['transmission'])"
      ],
      "execution_count": 40,
      "outputs": [
        {
          "output_type": "execute_result",
          "data": {
            "text/html": [
              "<div>\n",
              "<style scoped>\n",
              "    .dataframe tbody tr th:only-of-type {\n",
              "        vertical-align: middle;\n",
              "    }\n",
              "\n",
              "    .dataframe tbody tr th {\n",
              "        vertical-align: top;\n",
              "    }\n",
              "\n",
              "    .dataframe thead th {\n",
              "        text-align: right;\n",
              "    }\n",
              "</style>\n",
              "<table border=\"1\" class=\"dataframe\">\n",
              "  <thead>\n",
              "    <tr style=\"text-align: right;\">\n",
              "      <th>transmission</th>\n",
              "      <th>auto</th>\n",
              "      <th>man</th>\n",
              "    </tr>\n",
              "    <tr>\n",
              "      <th>fuel_type</th>\n",
              "      <th></th>\n",
              "      <th></th>\n",
              "    </tr>\n",
              "  </thead>\n",
              "  <tbody>\n",
              "    <tr>\n",
              "      <th>cng</th>\n",
              "      <td>206</td>\n",
              "      <td>1908</td>\n",
              "    </tr>\n",
              "    <tr>\n",
              "      <th>diesel</th>\n",
              "      <td>623032</td>\n",
              "      <td>1851536</td>\n",
              "    </tr>\n",
              "    <tr>\n",
              "      <th>electric</th>\n",
              "      <td>10723</td>\n",
              "      <td>61060</td>\n",
              "    </tr>\n",
              "    <tr>\n",
              "      <th>gasoline</th>\n",
              "      <td>153233</td>\n",
              "      <td>833881</td>\n",
              "    </tr>\n",
              "    <tr>\n",
              "      <th>lpg</th>\n",
              "      <td>2098</td>\n",
              "      <td>15235</td>\n",
              "    </tr>\n",
              "  </tbody>\n",
              "</table>\n",
              "</div>"
            ],
            "text/plain": [
              "transmission    auto      man\n",
              "fuel_type                    \n",
              "cng              206     1908\n",
              "diesel        623032  1851536\n",
              "electric       10723    61060\n",
              "gasoline      153233   833881\n",
              "lpg             2098    15235"
            ]
          },
          "metadata": {
            "tags": []
          },
          "execution_count": 40
        }
      ]
    },
    {
      "cell_type": "markdown",
      "metadata": {
        "id": "fVz7JoFiRQmi",
        "colab_type": "text"
      },
      "source": [
        "\n",
        "\n",
        "\n",
        "\n",
        "\n",
        "\n",
        "\n",
        "\n",
        "\n",
        "\n",
        "\n",
        "\n",
        "\n",
        "\n",
        "\n",
        "\n",
        "\n",
        "\n",
        "\n",
        "\n",
        "\n",
        "\n",
        "\n",
        "\n",
        "\n",
        "\n",
        "### Encoding Categorical data"
      ]
    },
    {
      "cell_type": "code",
      "metadata": {
        "id": "IJC12pRAqZXX",
        "colab_type": "code",
        "colab": {}
      },
      "source": [
        "## RAM is not supported for One hot encoding so we will use label encoding"
      ],
      "execution_count": 0,
      "outputs": []
    },
    {
      "cell_type": "code",
      "metadata": {
        "id": "t2MIj-qAsAQS",
        "colab_type": "code",
        "outputId": "bab19672-6b7e-4b4d-f093-6603a65f6ad4",
        "colab": {
          "base_uri": "https://localhost:8080/",
          "height": 255
        }
      },
      "source": [
        "df.dtypes"
      ],
      "execution_count": 0,
      "outputs": [
        {
          "output_type": "execute_result",
          "data": {
            "text/plain": [
              "maker                   object\n",
              "model                   object\n",
              "mileage                float64\n",
              "manufacture_year       float64\n",
              "engine_displacement    float64\n",
              "engine_power           float64\n",
              "stk_year                object\n",
              "transmission            object\n",
              "door_count              object\n",
              "seat_count              object\n",
              "fuel_type               object\n",
              "date_created            object\n",
              "price_eur              float64\n",
              "dtype: object"
            ]
          },
          "metadata": {
            "tags": []
          },
          "execution_count": 48
        }
      ]
    },
    {
      "cell_type": "code",
      "metadata": {
        "id": "QQDZDBvLv5Lg",
        "colab_type": "code",
        "colab": {}
      },
      "source": [
        "from sklearn.preprocessing import LabelEncoder"
      ],
      "execution_count": 0,
      "outputs": []
    },
    {
      "cell_type": "code",
      "metadata": {
        "id": "ELFf4dnjw3qv",
        "colab_type": "code",
        "outputId": "28772d45-4289-474d-a009-ba505dd7340c",
        "colab": {
          "base_uri": "https://localhost:8080/",
          "height": 68
        }
      },
      "source": [
        "objList = df.select_dtypes(include = \"object\").columns\n",
        "print (objList)"
      ],
      "execution_count": 0,
      "outputs": [
        {
          "output_type": "stream",
          "text": [
            "Index(['maker', 'model', 'stk_year', 'transmission', 'door_count',\n",
            "       'seat_count', 'fuel_type', 'date_created'],\n",
            "      dtype='object')\n"
          ],
          "name": "stdout"
        }
      ]
    },
    {
      "cell_type": "code",
      "metadata": {
        "id": "50luIgDww5ri",
        "colab_type": "code",
        "outputId": "810cbcb6-f8a4-40c2-cfa6-69a6aa0a0b0b",
        "colab": {
          "base_uri": "https://localhost:8080/",
          "height": 374
        }
      },
      "source": [
        "le = LabelEncoder()\n",
        "for feat in objList:\n",
        "    df[feat] = le.fit_transform(df[feat].astype(str))\n",
        "\n",
        "print (df.info())"
      ],
      "execution_count": 0,
      "outputs": [
        {
          "output_type": "stream",
          "text": [
            "<class 'pandas.core.frame.DataFrame'>\n",
            "RangeIndex: 3552912 entries, 0 to 3552911\n",
            "Data columns (total 13 columns):\n",
            " #   Column               Dtype  \n",
            "---  ------               -----  \n",
            " 0   maker                int64  \n",
            " 1   model                int64  \n",
            " 2   mileage              float64\n",
            " 3   manufacture_year     float64\n",
            " 4   engine_displacement  float64\n",
            " 5   engine_power         float64\n",
            " 6   stk_year             int64  \n",
            " 7   transmission         int64  \n",
            " 8   door_count           int64  \n",
            " 9   seat_count           int64  \n",
            " 10  fuel_type            int64  \n",
            " 11  date_created         int64  \n",
            " 12  price_eur            float64\n",
            "dtypes: float64(5), int64(8)\n",
            "memory usage: 352.4 MB\n",
            "None\n"
          ],
          "name": "stdout"
        }
      ]
    },
    {
      "cell_type": "markdown",
      "metadata": {
        "id": "ZKswQud0pAfI",
        "colab_type": "text"
      },
      "source": [
        "Since, Label encoding introduces the diadvantage regarding the misinterpretation of the labels, we will scale the features to somehow get rid of this disadvantage."
      ]
    },
    {
      "cell_type": "markdown",
      "metadata": {
        "id": "omYQasWe_aRh",
        "colab_type": "text"
      },
      "source": [
        "### Feature Scaling\n",
        "\n",
        "Here, we use Standardization, also called Z-score normalisation."
      ]
    },
    {
      "cell_type": "code",
      "metadata": {
        "id": "lURXR4rxA7Ew",
        "colab_type": "code",
        "colab": {}
      },
      "source": [
        "from sklearn.preprocessing import StandardScaler\n",
        "sc=StandardScaler()"
      ],
      "execution_count": 0,
      "outputs": []
    },
    {
      "cell_type": "code",
      "metadata": {
        "id": "ONVf9mKIA68s",
        "colab_type": "code",
        "colab": {}
      },
      "source": [
        "df = pd.DataFrame(sc.fit_transform(df))\n",
        "df.columns = column_names"
      ],
      "execution_count": 0,
      "outputs": []
    },
    {
      "cell_type": "markdown",
      "metadata": {
        "id": "mX-8DULxfAj1",
        "colab_type": "text"
      },
      "source": [
        "### Outlier Detection\n",
        "\n",
        "Let's see outliers as univariate analysis with the help of boxplot."
      ]
    },
    {
      "cell_type": "code",
      "metadata": {
        "id": "filM7EB-WYdY",
        "colab_type": "code",
        "outputId": "fd2ed0cc-1e6f-498e-dbeb-2f99f2e7cfbc",
        "colab": {
          "base_uri": "https://localhost:8080/",
          "height": 452
        }
      },
      "source": [
        "plt.figure(figsize=(30,7))\n",
        "df.boxplot() "
      ],
      "execution_count": 0,
      "outputs": [
        {
          "output_type": "execute_result",
          "data": {
            "text/plain": [
              "<matplotlib.axes._subplots.AxesSubplot at 0x7f2fa38aa470>"
            ]
          },
          "metadata": {
            "tags": []
          },
          "execution_count": 54
        },
        {
          "output_type": "display_data",
          "data": {
            "image/png": "[encoded data removed]",
            "text/plain": [
              "<Figure size 2160x504 with 1 Axes>"
            ]
          },
          "metadata": {
            "tags": []
          }
        }
      ]
    },
    {
      "cell_type": "code",
      "metadata": {
        "id": "3yVLjX8Ka4KB",
        "colab_type": "code",
        "outputId": "3e71c6d8-db05-4212-9ed0-34ebc70ca4eb",
        "colab": {
          "base_uri": "https://localhost:8080/",
          "height": 592
        }
      },
      "source": [
        "\n",
        "sns.set(rc={'figure.figsize':(5, 10)})\n",
        "sns.boxplot(y=df.engine_power)"
      ],
      "execution_count": 0,
      "outputs": [
        {
          "output_type": "execute_result",
          "data": {
            "text/plain": [
              "<matplotlib.axes._subplots.AxesSubplot at 0x7f2fa3982cf8>"
            ]
          },
          "metadata": {
            "tags": []
          },
          "execution_count": 55
        },
        {
          "output_type": "display_data",
          "data": {
            "image/png": "[encoded data removed]",
            "text/plain": [
              "<Figure size 360x720 with 1 Axes>"
            ]
          },
          "metadata": {
            "tags": []
          }
        }
      ]
    },
    {
      "cell_type": "markdown",
      "metadata": {
        "id": "Qn6vC9KzfJXo",
        "colab_type": "text"
      },
      "source": [
        "### Correlation Plot\n",
        "\n",
        "Since, almost all the steps of the data preprocessing are performed, we have a complete set of numeric, scales and feature extracted dataset. Now, we will see the correlation plot and decide in case we can drop any of the columns."
      ]
    },
    {
      "cell_type": "code",
      "metadata": {
        "id": "9kGYUKazfMz7",
        "colab_type": "code",
        "outputId": "469edb03-928a-4304-a006-c0d5ccd47d9c",
        "colab": {
          "base_uri": "https://localhost:8080/",
          "height": 777
        }
      },
      "source": [
        "\n",
        "sns.set(rc={'figure.figsize':(18,11)})\n",
        "sns.heatmap(df.corr(), annot = True)\n"
      ],
      "execution_count": 0,
      "outputs": [
        {
          "output_type": "execute_result",
          "data": {
            "text/plain": [
              "<matplotlib.axes._subplots.AxesSubplot at 0x7f2fa3bb6f60>"
            ]
          },
          "metadata": {
            "tags": []
          },
          "execution_count": 56
        },
        {
          "output_type": "display_data",
          "data": {
            "image/png": "[encoded data removed]",
            "text/plain": [
              "<Figure size 1296x792 with 2 Axes>"
            ]
          },
          "metadata": {
            "tags": []
          }
        }
      ]
    },
    {
      "cell_type": "markdown",
      "metadata": {
        "id": "57Qc9S6D-9yT",
        "colab_type": "text"
      },
      "source": [
        "### Splitting the data into inputs and labels"
      ]
    },
    {
      "cell_type": "code",
      "metadata": {
        "id": "ncVkJRFr2obZ",
        "colab_type": "code",
        "outputId": "bba0f40e-b70f-48b2-aa00-ac60838b0d69",
        "colab": {
          "base_uri": "https://localhost:8080/",
          "height": 34
        }
      },
      "source": [
        "X = df.iloc[:, :-1]\n",
        "X.shape"
      ],
      "execution_count": 0,
      "outputs": [
        {
          "output_type": "execute_result",
          "data": {
            "text/plain": [
              "(3552912, 12)"
            ]
          },
          "metadata": {
            "tags": []
          },
          "execution_count": 57
        }
      ]
    },
    {
      "cell_type": "code",
      "metadata": {
        "id": "bcc7dj-BCDwG",
        "colab_type": "code",
        "colab": {}
      },
      "source": [
        "y = df.iloc[:, -1]"
      ],
      "execution_count": 0,
      "outputs": []
    },
    {
      "cell_type": "code",
      "metadata": {
        "id": "4kM8jg9dCNt7",
        "colab_type": "code",
        "outputId": "f418ca74-57db-477f-bbdf-de3a522c40c9",
        "colab": {
          "base_uri": "https://localhost:8080/",
          "height": 34
        }
      },
      "source": [
        "len(y)"
      ],
      "execution_count": 0,
      "outputs": [
        {
          "output_type": "execute_result",
          "data": {
            "text/plain": [
              "3552912"
            ]
          },
          "metadata": {
            "tags": []
          },
          "execution_count": 59
        }
      ]
    },
    {
      "cell_type": "markdown",
      "metadata": {
        "id": "fDy8Q_HxCYx4",
        "colab_type": "text"
      },
      "source": [
        "### Splitting the dataset into train test and validation set."
      ]
    },
    {
      "cell_type": "code",
      "metadata": {
        "id": "Dv8MDk3IUyjf",
        "colab_type": "code",
        "colab": {}
      },
      "source": [
        "from sklearn.model_selection import train_test_split"
      ],
      "execution_count": 0,
      "outputs": []
    },
    {
      "cell_type": "code",
      "metadata": {
        "id": "ihT-uxtQCdtW",
        "colab_type": "code",
        "colab": {}
      },
      "source": [
        "X_train, X_test, y_train, y_test = train_test_split(X, y, test_size=0.33, random_state=42)"
      ],
      "execution_count": 0,
      "outputs": []
    },
    {
      "cell_type": "markdown",
      "metadata": {
        "id": "uLcXVimwVB68",
        "colab_type": "text"
      },
      "source": [
        "### Building Linear REgression Model"
      ]
    },
    {
      "cell_type": "code",
      "metadata": {
        "id": "8p13SebZVFyK",
        "colab_type": "code",
        "colab": {}
      },
      "source": [
        "from sklearn.linear_model import LinearRegression"
      ],
      "execution_count": 0,
      "outputs": []
    },
    {
      "cell_type": "code",
      "metadata": {
        "id": "LxKUjxqWVGe8",
        "colab_type": "code",
        "colab": {}
      },
      "source": [
        "reg = LinearRegression().fit(X_train, y_train)"
      ],
      "execution_count": 0,
      "outputs": []
    },
    {
      "cell_type": "code",
      "metadata": {
        "id": "NxDKrA_cVMlA",
        "colab_type": "code",
        "outputId": "2ca05733-23e4-486c-c704-d8dec67d36b8",
        "colab": {
          "base_uri": "https://localhost:8080/",
          "height": 68
        }
      },
      "source": [
        "reg.coef_"
      ],
      "execution_count": 0,
      "outputs": [
        {
          "output_type": "execute_result",
          "data": {
            "text/plain": [
              "array([-5.95908557e-04,  4.58316911e-04, -9.72029764e-05,  1.23186284e-04,\n",
              "        3.46965892e-03, -1.02897314e-03, -1.28469099e-03,  8.08385125e-04,\n",
              "       -5.72032756e-04, -3.73648490e-04, -4.21222493e-04, -1.06488209e-03])"
            ]
          },
          "metadata": {
            "tags": []
          },
          "execution_count": 64
        }
      ]
    },
    {
      "cell_type": "code",
      "metadata": {
        "id": "rk9ygjzaVVjB",
        "colab_type": "code",
        "outputId": "0ed0433d-b134-4ac4-9f3e-e864b8c5babe",
        "colab": {
          "base_uri": "https://localhost:8080/",
          "height": 34
        }
      },
      "source": [
        "reg.intercept_"
      ],
      "execution_count": 0,
      "outputs": [
        {
          "output_type": "execute_result",
          "data": {
            "text/plain": [
              "0.00033149425202730847"
            ]
          },
          "metadata": {
            "tags": []
          },
          "execution_count": 65
        }
      ]
    },
    {
      "cell_type": "code",
      "metadata": {
        "id": "-2WcPA9GVaBL",
        "colab_type": "code",
        "colab": {}
      },
      "source": [
        "y_pred = reg.predict(X_test)"
      ],
      "execution_count": 0,
      "outputs": []
    },
    {
      "cell_type": "code",
      "metadata": {
        "id": "dLBNQs7KVgVB",
        "colab_type": "code",
        "outputId": "c6ee38bc-df26-45cc-e1c9-66f98dd3342a",
        "colab": {
          "base_uri": "https://localhost:8080/",
          "height": 34
        }
      },
      "source": [
        "from sklearn.metrics import mean_squared_error\n",
        "mean_squared_error(y_test, y_pred)"
      ],
      "execution_count": 0,
      "outputs": [
        {
          "output_type": "execute_result",
          "data": {
            "text/plain": [
              "0.015551815198106937"
            ]
          },
          "metadata": {
            "tags": []
          },
          "execution_count": 67
        }
      ]
    }
  ]
}